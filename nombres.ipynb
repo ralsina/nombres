{
 "nbformat": 4,
 "nbformat_minor": 2,
 "metadata": {
  "language_info": {
   "name": "python",
   "codemirror_mode": {
    "name": "ipython",
    "version": 3
   },
   "version": "3.8.1-final"
  },
  "orig_nbformat": 2,
  "file_extension": ".py",
  "mimetype": "text/x-python",
  "name": "python",
  "npconvert_exporter": "python",
  "pygments_lexer": "ipython3",
  "version": 3,
  "kernelspec": {
   "name": "python38164bite5c51c67db7b4630848586da82917b67",
   "display_name": "Python 3.8.1 64-bit"
  }
 },
 "cells": [
  {
   "cell_type": "code",
   "execution_count": 3,
   "metadata": {},
   "outputs": [],
   "source": [
    "from IPython.display import display, HTML\n",
    "\n",
    "base_html = \"\"\"\n",
    "<!DOCTYPE html>\n",
    "<html>\n",
    "  <head>\n",
    "  <script type=\"text/javascript\" src=\"http://kozea.github.com/pygal.js/javascripts/svg.jquery.js\"></script>\n",
    "  <script type=\"text/javascript\" src=\"https://kozea.github.io/pygal.js/2.0.x/pygal-tooltips.min.js\"\"></script>\n",
    "  </head>\n",
    "  <body>\n",
    "    <figure>\n",
    "      {rendered_chart}\n",
    "    </figure>\n",
    "  </body>\n",
    "</html>\n",
    "\"\"\""
   ]
  },
  {
   "cell_type": "code",
   "execution_count": 7,
   "metadata": {},
   "outputs": [
    {
     "name": "stdout",
     "output_type": "stream",
     "text": "Hay 94 años\nHay 3390420 nombres\n"
    }
   ],
   "source": [
    "import csv\n",
    "from collections import defaultdict as ddict\n",
    "\n",
    "años = ddict(lambda: ddict(int))\n",
    "nombres = ddict(lambda: ddict(int))\n",
    "\n",
    "with open('historico-nombres.csv') as csvfile:\n",
    "    reader = csv.reader(csvfile)\n",
    "    next(reader)  # Saltear títulos\n",
    "    for nombre_completo, número, año in reader:\n",
    "        año = int(año)\n",
    "        número = int(número)\n",
    "        # nombre_completo es algo como \"Juan Carlos\".\n",
    "        # Queremos poner \"juan\" y \"juan carlos\"\n",
    "        nombre_completo = nombre_completo.lower()\n",
    "        nombre_partido = nombre_completo.split()\n",
    "        for i in range(len(nombre_partido)):\n",
    "            nombre = ' '.join(nombre_partido[:i+1])\n",
    "            años[año][nombre] += número\n",
    "            nombres[nombre][año] += número\n",
    "\n",
    "print(f'Hay {len(años)} años')\n",
    "print(f'Hay {len(nombres)} nombres')"
   ]
  },
  {
   "cell_type": "code",
   "execution_count": 14,
   "metadata": {},
   "outputs": [],
   "source": [
    "agrupados = ddict(int)\n",
    "for _,n in nombres.items():\n",
    "    for a,v in n.items():\n",
    "        agrupados[_] += v\n"
   ]
  },
  {
   "source": [
    "cosos = [(v,k) for k,v in agrupados.items()]\n",
    "cosos.sort(reverse=True)\n",
    "print(cosos[:200])"
   ],
   "cell_type": "code",
   "outputs": [
    {
     "output_type": "stream",
     "name": "stdout",
     "text": "[(2864022, 'maria'), (1449833, 'juan'), (843572, 'carlos'), (818420, 'jose'), (654373, 'jorge'), (584357, 'luis'), (507297, 'ana'), (450100, 'pablo'), (415770, 'miguel'), (403384, 'diego'), (390227, 'cristian'), (383734, 'lucas'), (379099, 'daniel'), (373629, 'matias'), (370481, 'sergio'), (361771, 'hector'), (353198, 'silvia'), (334132, 'gustavo'), (331263, 'claudia'), (313310, 'marcelo'), (312935, 'roberto'), (303012, 'juan carlos'), (297554, 'mario'), (296081, 'oscar'), (289390, 'fernando'), (286297, 'francisco'), (284980, 'santiago'), (282100, 'ricardo'), (279980, 'nicolas'), (279701, 'franco'), (275715, 'rosa'), (274311, 'alejandro'), (271442, 'norma'), (270951, 'andrea'), (267742, 'natalia'), (266892, 'eduardo'), (261842, 'marta'), (261577, 'victor'), (261511, 'miguel angel'), (259138, 'graciela'), (255319, 'hugo'), (254235, 'ramon'), (251358, 'julio'), (250673, 'walter'), (249755, 'laura'), (247685, 'pedro'), (241669, 'patricia'), (241264, 'martin'), (239907, 'camila'), (237393, 'florencia'), (233677, 'facundo'), (232581, 'monica'), (232185, 'gabriela'), (231470, 'gabriel'), (230553, 'ruben'), (227598, 'angel'), (225576, 'claudio'), (220958, 'sofia'), (215451, 'susana'), (213005, 'raul'), (212155, 'rocio'), (208673, 'sandra'), (208050, 'alberto'), (207491, 'alicia'), (207422, 'romina'), (206394, 'marcos'), (205059, 'federico'), (204450, 'mirta'), (197139, 'leonardo'), (195351, 'lucia'), (195269, 'maximiliano'), (195202, 'leandro'), (194177, 'micaela'), (194030, 'carlos alberto'), (192391, 'liliana'), (192353, 'veronica'), (191577, 'rodrigo'), (191009, 'mariana'), (190076, 'agustin'), (187952, 'gonzalo'), (187486, 'guillermo'), (187142, 'adriana'), (186071, 'sebastian'), (182370, 'carolina'), (181401, 'javier'), (180527, 'lautaro'), (176959, 'maría'), (174959, 'jose luis'), (174648, 'daniela'), (172991, 'nestor'), (172394, 'marcela'), (172306, 'agustina'), (166278, 'ana maria'), (165752, 'antonio'), (162899, 'juana'), (162865, 'maria del'), (160986, 'ignacio'), (159978, 'milagros'), (157342, 'cesar'), (156010, 'luciano'), (155853, 'ariel'), (155517, 'julieta'), (154694, 'lorena'), (154209, 'alejandra'), (151612, 'manuel'), (150930, 'mariano'), (147977, 'daiana'), (146569, 'valeria'), (144877, 'valentina'), (144183, 'joaquin'), (143869, 'paula'), (142186, 'olga'), (138102, 'cecilia'), (137277, 'victoria'), (136360, 'martina'), (135298, 'tomas'), (135179, 'jonathan'), (134909, 'luciana'), (134902, 'noelia'), (134470, 'mariela'), (132103, 'thiago'), (131974, 'carmen'), (129464, 'paola'), (128502, 'maria cristina'), (128363, 'ramona'), (128259, 'gladys'), (128218, 'elsa'), (127278, 'david'), (126498, 'luis alberto'), (125852, 'lidia'), (125823, 'carla'), (124014, 'nelida'), (123736, 'andres'), (123641, 'esteban'), (119739, 'ezequiel'), (118139, 'dario'), (117768, 'nancy'), (117466, 'alfredo'), (117058, 'juan manuel'), (116021, 'adrian'), (115739, 'yanina'), (115661, 'analia'), (115414, 'maria de'), (114780, 'mauro'), (114533, 'vanesa'), (114257, 'cristina'), (112961, 'mateo'), (110535, 'mercedes'), (108885, 'enrique'), (108582, 'teresa'), (107808, 'cintia'), (107571, 'karina'), (107364, 'beatriz'), (106706, 'mauricio'), (106221, 'alexis'), (105871, 'benjamin'), (104823, 'horacio'), (104701, 'brenda'), (104141, 'viviana'), (103167, 'hernan'), (103142, 'omar'), (102947, 'maria del carmen'), (102056, 'alan'), (101654, 'blanca'), (101602, 'gaston'), (101477, 'sonia'), (101188, 'brian'), (101167, 'juan pablo'), (100564, 'osvaldo'), (99016, 'karen'), (98747, 'silvana'), (98689, 'ivan'), (97816, 'silvina'), (97652, 'yamila'), (97540, 'margarita'), (97460, 'marina'), (97077, 'miriam'), (96320, 'jesica'), (95977, 'julia'), (95871, 'angela'), (95652, 'rodolfo'), (94561, 'bruno'), (94335, 'gisela'), (93301, 'stella'), (92538, 'kevin'), (92476, 'juan jose'), (90330, 'enzo'), (89970, 'nahuel'), (89119, 'eliana'), (89069, 'catalina'), (89043, 'santino'), (88971, 'irma'), (88244, 'julian'), (87741, 'estela'), (87589, 'sara'), (87345, 'jonatan'), (87220, 'stella maris'), (86501, 'sabrina'), (86483, 'fabian'), (85476, 'yesica')]\n"
    }
   ],
   "metadata": {},
   "execution_count": 19
  },
  {
   "cell_type": "code",
   "execution_count": 0,
   "metadata": {},
   "outputs": [],
   "source": [
    "import pygal\n",
    "chart = pygal.Line(height=200, fill=True, human_readable=False, show_minor_x_labels=False)\n",
    "chart.x_labels = range(1922, 2020)\n",
    "chart.add('Bernarda', [años[x]['bernarda'] for x in range(1922,2019)])\n",
    "chart.x_labels = list(range(1920,2020))\n",
    "chart.x_labels_major = list(range(1920,2020,10))\n",
    "display(HTML(base_html.format(rendered_chart=chart.render(is_unicode=True))))"
   ]
  },
  {
   "cell_type": "code",
   "execution_count": 0,
   "metadata": {},
   "outputs": [],
   "source": [
    "# Adivinemos nombres!\n",
    "\n",
    "año = 1959\n",
    "nombre = 'ber'\n",
    "data = años[año]\n",
    "# Filtramos por prefijo\n",
    "filtrado = [(v,k) for k,v in data.items() if k.startswith(nombre)]\n",
    "filtrado.sort(reverse=True)\n",
    "print(filtrado[:10])\n",
    "chart = pygal.HorizontalBar(height=200)\n",
    "for v, n in filtrado[:5]:\n",
    "    chart.add(n, v)\n",
    "display(HTML(base_html.format(rendered_chart=chart.render(is_unicode=True))))"
   ]
  }
 ]
}